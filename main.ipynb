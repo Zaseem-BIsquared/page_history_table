{
 "cells": [
  {
   "cell_type": "code",
   "execution_count": null,
   "id": "178ac601",
   "metadata": {},
   "outputs": [],
   "source": [
    "import pandas as pd\n",
    "import datacompy\n",
    "import sqlite3"
   ]
  },
  {
   "cell_type": "code",
   "execution_count": null,
   "id": "b2a4adac",
   "metadata": {},
   "outputs": [],
   "source": [
    "INPUT_FOLDER = \"inputs\"\n",
    "OUTPUT_FOLDER = \"outputs\"\n",
    "DB_PATH = f\"{INPUT_FOLDER}/quran_backup.db\"\n",
    "OUTPUT_FILE = f\"{OUTPUT_FOLDER}/page_history.csv\"\n",
    "OUTPUT_FILE_XL = f\"{OUTPUT_FOLDER}/page_history_test.xlsx\""
   ]
  },
  {
   "cell_type": "markdown",
   "id": "8a347427",
   "metadata": {},
   "source": [
    "### \n",
    "Utils"
   ]
  },
  {
   "cell_type": "code",
   "execution_count": null,
   "id": "80d921d2",
   "metadata": {},
   "outputs": [],
   "source": [
    "def read_multiple_tables(db_path, table_names):\n",
    "    conn = sqlite3.connect(db_path)\n",
    "    tables = {}\n",
    "    \n",
    "    for table_name in table_names:\n",
    "        tables[table_name] = pd.read_sql_query(f\"SELECT * FROM {table_name}\", conn)\n",
    "    \n",
    "    conn.close()\n",
    "    return tables"
   ]
  },
  {
   "cell_type": "markdown",
   "id": "15e169a8",
   "metadata": {},
   "source": [
    "Create a connection to the SQLite database"
   ]
  },
  {
   "cell_type": "code",
   "execution_count": null,
   "id": "6b2268e3",
   "metadata": {},
   "outputs": [],
   "source": [
    "table_names = ['hafizs_items']\n",
    "tables = read_multiple_tables(DB_PATH, table_names)"
   ]
  },
  {
   "cell_type": "code",
   "execution_count": null,
   "id": "4ea3d883",
   "metadata": {},
   "outputs": [],
   "source": [
    "# To exclude the inactive items from the revisions records\n",
    "conn = sqlite3.connect(DB_PATH)\n",
    "revisions_df = pd.read_sql_query(\"\"\"\n",
    "    SELECT t1.*\n",
    "    FROM revisions t1 \n",
    "    JOIN items t2 ON t1.item_id = t2.id\n",
    "    WHERE t2.active = 1\n",
    "\"\"\", conn)\n",
    "conn.close()"
   ]
  },
  {
   "cell_type": "code",
   "execution_count": null,
   "id": "39f4dcbf",
   "metadata": {},
   "outputs": [],
   "source": [
    "# Convert date columns to datetime\n",
    "revisions_df['revision_date'] = pd.to_datetime(revisions_df['revision_date'])\n",
    "revisions_df.head()\n"
   ]
  },
  {
   "cell_type": "code",
   "execution_count": null,
   "id": "90e5453c",
   "metadata": {},
   "outputs": [],
   "source": [
    "hafizs_items_df = tables['hafizs_items']\n",
    "# Convert date columns to datetime\n",
    "hafizs_items_df['srs_start_date'] = pd.to_datetime(hafizs_items_df['srs_start_date'])\n",
    "hafizs_items_df.head()"
   ]
  },
  {
   "cell_type": "code",
   "execution_count": null,
   "id": "ad4f3e6e",
   "metadata": {},
   "outputs": [],
   "source": [
    "# We are only generating the history for hafiz = 1 (Siraj)\n",
    "revisions_df = revisions_df[revisions_df['hafiz_id'] == 1]\n",
    "hafizs_items_df = hafizs_items_df[hafizs_items_df['hafiz_id'] == 1]"
   ]
  },
  {
   "cell_type": "markdown",
   "id": "63392f93",
   "metadata": {},
   "source": [
    "Based on the logic on `README.md`, we can generate the page history table using the following function"
   ]
  },
  {
   "cell_type": "code",
   "execution_count": null,
   "id": "994cee94",
   "metadata": {},
   "outputs": [],
   "source": [
    "# Claude generated v2\n",
    "\n",
    "def create_transition_record(hafiz_id, item_id, date, from_status, to_status, from_mode, to_mode, reps, graduated_by):\n",
    "    \"\"\"\n",
    "    Create a standardized transition record\n",
    "    \"\"\"\n",
    "    # Temprorary adding the pages column here based on the item_id, to debug\n",
    "    pages = hafizs_items_df[hafizs_items_df['item_id'] == item_id]['page_number'].values[0]\n",
    "\n",
    "    # If `from` and `to` are the same, set Null\n",
    "    if from_status == to_status:\n",
    "        from_status = None\n",
    "        to_status = None\n",
    "    if from_mode == to_mode:\n",
    "        from_mode = None\n",
    "        to_mode = None\n",
    "\n",
    "    return {\n",
    "        'hafiz_id': hafiz_id,\n",
    "        'item_id': item_id,\n",
    "        'pages': pages,\n",
    "        'date': date,\n",
    "        'from_status': from_status,\n",
    "        'to_status': to_status,\n",
    "        'from_mode': from_mode,\n",
    "        'to_mode': to_mode,\n",
    "        'reps': reps,\n",
    "        'graduated_by': graduated_by\n",
    "    }\n",
    "\n",
    "\n",
    "def calculate_reps_and_graduation(from_mode, from_status, to_mode, item_revisions, current_revision_index=None):\n",
    "    \"\"\"\n",
    "    Calculate reps and graduated_by for transitions FROM specified modes\n",
    "    \"\"\"\n",
    "    \n",
    "    # Rule 1: If from_status is 6, graduated_by = user\n",
    "    if from_status == 6:\n",
    "        reps = None\n",
    "        if from_mode in [3, 4, 5]:\n",
    "            mode_count = len(item_revisions[item_revisions['mode_id'] == from_mode])\n",
    "            denominator = 7 if from_mode in [3, 4] else 11\n",
    "            reps = f\"{mode_count}/{denominator}\"\n",
    "        return reps, 'user'\n",
    "    \n",
    "    # Rule 2: If from_mode is 2, graduated_by = system\n",
    "    if from_mode == 2:\n",
    "        return None, 'system'\n",
    "    \n",
    "    # Rule 3: If to_mode is 5, check previous two revision ratings\n",
    "    if to_mode == 5 and current_revision_index is not None:\n",
    "        # Get the two revisions before the current transition\n",
    "        if current_revision_index >= 2:\n",
    "            prev_two_ratings = item_revisions.iloc[current_revision_index-2:current_revision_index]['rating'].tolist()\n",
    "            # If both previous ratings are bad (-1), then system, else user\n",
    "            if len(prev_two_ratings) == 2 and all(rating == -1 for rating in prev_two_ratings):\n",
    "                graduated_by = 'system'\n",
    "            else:\n",
    "                graduated_by = 'user'\n",
    "        else:\n",
    "            # Not enough previous records, default to user\n",
    "            graduated_by = 'user'\n",
    "        \n",
    "        return None, graduated_by\n",
    "    \n",
    "    # Original logic for other cases\n",
    "    if from_mode not in [3, 4, 5]:\n",
    "        return None, None\n",
    "    \n",
    "    # Count revisions under the from_mode for this item\n",
    "    mode_count = len(item_revisions[item_revisions['mode_id'] == from_mode])\n",
    "    \n",
    "    # Set denominator based on mode\n",
    "    denominator = 7 if from_mode in [3, 4] else 11  # mode 5 = 11\n",
    "    \n",
    "    # Format reps and determine graduation\n",
    "    reps = f\"{mode_count}/{denominator}\"\n",
    "    graduated_by = 'system' if mode_count >= denominator else 'user'\n",
    "    \n",
    "    return reps, graduated_by\n",
    "\n",
    "def generate_page_history(revisions_df, hafizs_items_df):\n",
    "    \"\"\"\n",
    "    Generate page_history table based on revisions and current item status\n",
    "    \"\"\"\n",
    "    # Initialize empty list to store page history records\n",
    "    page_history_records = []\n",
    "    \n",
    "    # Mode to Status mapping\n",
    "    mode_status_mapping = {1: 1, 2: 4, 3: 4, 4: 4, 5: 5}\n",
    "    \n",
    "    # Process each unique combination of hafiz_id and item_id\n",
    "    for (hafiz_id, item_id) in revisions_df.groupby(['hafiz_id', 'item_id']).groups.keys():\n",
    "        # Get revisions for this hafiz-item combination, sorted by date\n",
    "        item_revisions = revisions_df[\n",
    "            (revisions_df['hafiz_id'] == hafiz_id) & \n",
    "            (revisions_df['item_id'] == item_id)\n",
    "        ].sort_values('revision_date')\n",
    "        \n",
    "        # Initialize starting state\n",
    "        current_mode = None\n",
    "        current_status = 6  # Initial status is 6\n",
    "        \n",
    "        # Process each revision chronologically\n",
    "        for idx, (_, revision) in enumerate(item_revisions.iterrows()):\n",
    "            # Calculate new state\n",
    "            new_mode = revision['mode_id']\n",
    "            new_status = mode_status_mapping.get(new_mode, new_mode)\n",
    "            \n",
    "            # Only create record if mode has changed\n",
    "            if current_mode != new_mode:\n",
    "                # Calculate reps and graduated_by using modular function\n",
    "                reps, graduated_by = calculate_reps_and_graduation(\n",
    "                    current_mode, current_status, new_mode, item_revisions, idx\n",
    "                )\n",
    "                \n",
    "                # Determine the date to use based on transition type\n",
    "                # Valid transitions: 6->2, 2->3, 3->4, 4->1, 1->5, 5->1\n",
    "                # Transitions 1(6->2), 2(2->3), 5(1->5) use current record date\n",
    "                # Transitions 3(3->4), 4(4->1), 6(5->1) use previous record date\n",
    "                \n",
    "                transition = (current_mode, new_mode)\n",
    "                \n",
    "                if transition in [(None, 2), (2, 3), (1, 5)]:  # None represents initial state 6\n",
    "                    # Use current revision date\n",
    "                    date_to_use = revision['revision_date']\n",
    "                elif transition in [(3, 4), (4, 1), (5, 1)]:\n",
    "                    # Use previous revision date\n",
    "                    if idx > 0:\n",
    "                        date_to_use = item_revisions.iloc[idx-1]['revision_date']\n",
    "                    else:\n",
    "                        # Fallback to current date if no previous record\n",
    "                        date_to_use = revision['revision_date']\n",
    "                else:\n",
    "                    # Default fallback for any other transitions\n",
    "                    date_to_use = revision['revision_date']\n",
    "\n",
    "\n",
    "                # Special case: if transitioning TO mode 5, check hafizs_items\n",
    "                if new_mode == 5:\n",
    "                    hafizs_item = hafizs_items_df[\n",
    "                        (hafizs_items_df['hafiz_id'] == hafiz_id) & \n",
    "                        (hafizs_items_df['item_id'] == item_id)\n",
    "                    ]\n",
    "                    # If srs_start_date is not null, use it\n",
    "                    srs_start_date = hafizs_item.iloc[0].get('srs_start_date')\n",
    "                    if pd.notna(srs_start_date):\n",
    "                        date_to_use = srs_start_date\n",
    "                \n",
    "                # Create and add transition record\n",
    "                record = create_transition_record(\n",
    "                    hafiz_id, item_id, date_to_use, \n",
    "                    current_status, new_status, \n",
    "                    current_mode, new_mode, \n",
    "                    reps, graduated_by\n",
    "                )\n",
    "                page_history_records.append(record)\n",
    "                \n",
    "                # Update current state for next iteration\n",
    "                current_mode = new_mode\n",
    "                current_status = new_status\n",
    "        \n",
    "        # Check if final state matches hafizs_items current state\n",
    "        hafizs_item = hafizs_items_df[\n",
    "            (hafizs_items_df['hafiz_id'] == hafiz_id) & \n",
    "            (hafizs_items_df['item_id'] == item_id)\n",
    "        ]\n",
    "        \n",
    "        if not hafizs_item.empty:\n",
    "            current_hafizs_mode = hafizs_item.iloc[0]['mode_id']\n",
    "            current_hafizs_status = hafizs_item.iloc[0]['status_id']\n",
    "            \n",
    "            # If final revision state doesn't match hafizs_items, add final transition\n",
    "            if current_mode != current_hafizs_mode or current_status != current_hafizs_status:\n",
    "                # Calculate reps and graduated_by using modular function\n",
    "                reps, graduated_by = calculate_reps_and_graduation(\n",
    "                    current_mode, current_status, current_hafizs_mode, item_revisions\n",
    "                )\n",
    "                \n",
    "                # Determine the date to use for final transition\n",
    "                date_to_use = item_revisions.iloc[-1]['revision_date']\n",
    "                \n",
    "                # Special case: if transitioning TO mode 5 and hafizs_items also has mode 5\n",
    "                srs_start_date = hafizs_item.iloc[0].get('srs_start_date')\n",
    "                if pd.notna(srs_start_date):\n",
    "                    date_to_use = srs_start_date\n",
    "                \n",
    "                # Create and add final transition record\n",
    "                final_record = create_transition_record(\n",
    "                    hafiz_id, item_id, date_to_use,\n",
    "                    current_status, current_hafizs_status,\n",
    "                    current_mode, current_hafizs_mode,\n",
    "                    reps, graduated_by\n",
    "                )\n",
    "                page_history_records.append(final_record)\n",
    "    \n",
    "    # Convert to DataFrame\n",
    "    return pd.DataFrame(page_history_records)"
   ]
  },
  {
   "cell_type": "code",
   "execution_count": null,
   "id": "236424e6",
   "metadata": {},
   "outputs": [],
   "source": [
    "item_id = 548\n",
    "mock_revisions_df = revisions_df[revisions_df['item_id'] == item_id]\n",
    "mock_hafizs_items_df = hafizs_items_df[hafizs_items_df['item_id'] == item_id]\n",
    "\n",
    "generate_page_history(mock_revisions_df, mock_hafizs_items_df)"
   ]
  },
  {
   "cell_type": "code",
   "execution_count": null,
   "id": "52abea47",
   "metadata": {},
   "outputs": [],
   "source": [
    "item_id = 104\n",
    "mock_revisions_df = revisions_df[revisions_df['item_id'] == item_id]\n",
    "mock_hafizs_items_df = hafizs_items_df[hafizs_items_df['item_id'] == item_id]\n",
    "\n",
    "generate_page_history(mock_revisions_df, mock_hafizs_items_df)"
   ]
  },
  {
   "cell_type": "code",
   "execution_count": null,
   "id": "4968f6ab",
   "metadata": {},
   "outputs": [],
   "source": [
    "page_history_df = generate_page_history(revisions_df, hafizs_items_df)\n",
    "\n"
   ]
  },
  {
   "cell_type": "code",
   "execution_count": null,
   "id": "20269e31",
   "metadata": {},
   "outputs": [],
   "source": [
    "page_history_df.dtypes"
   ]
  },
  {
   "cell_type": "code",
   "execution_count": null,
   "id": "e3bdbd8c",
   "metadata": {},
   "outputs": [],
   "source": [
    "page_history_df = page_history_df.astype({\n",
    "    'hafiz_id': 'int64',\n",
    "    'item_id': 'int64', \n",
    "    'pages': 'int64',\n",
    "    'date': 'datetime64[ns]',\n",
    "    'from_status': 'Int64',\n",
    "    'to_status': 'Int64',\n",
    "    'from_mode': 'Int64',\n",
    "    'to_mode': 'Int64',\n",
    "    'reps': 'object',\n",
    "    'graduated_by': 'object',\n",
    "})\n",
    "\n"
   ]
  },
  {
   "cell_type": "code",
   "execution_count": null,
   "id": "edcf1778",
   "metadata": {},
   "outputs": [],
   "source": [
    "page_history_df.to_csv(OUTPUT_FILE, index=False)"
   ]
  },
  {
   "cell_type": "markdown",
   "id": "e55db7af",
   "metadata": {},
   "source": [
    "page_history_df.to_excel(OUTPUT_FILE_XL, index=False)"
   ]
  },
  {
   "cell_type": "markdown",
   "id": "6a83ec85",
   "metadata": {},
   "source": [
    "#### Compare the old logic with the new logic"
   ]
  },
  {
   "cell_type": "code",
   "execution_count": null,
   "id": "99163945",
   "metadata": {},
   "outputs": [],
   "source": [
    "df1 = pd.read_csv(OUTPUT_FOLDER+'/page_history-v1.csv')\n",
    "\n",
    "df2 = pd.read_csv(OUTPUT_FOLDER+'/page_history.csv')\n",
    "\n",
    "compare = datacompy.Compare(\n",
    "df1, df2, join_columns='id'\n",
    ")"
   ]
  },
  {
   "cell_type": "code",
   "execution_count": null,
   "id": "092fa8f6",
   "metadata": {},
   "outputs": [],
   "source": [
    "print(compare.report())"
   ]
  },
  {
   "cell_type": "code",
   "execution_count": null,
   "id": "e5029f3a",
   "metadata": {},
   "outputs": [],
   "source": [
    "mismatch = compare.all_mismatch()\n",
    "mismatch[mismatch.item_id_df1 == 536]"
   ]
  },
  {
   "cell_type": "code",
   "execution_count": null,
   "id": "6ae09f8f",
   "metadata": {},
   "outputs": [],
   "source": []
  }
 ],
 "metadata": {
  "kernelspec": {
   "display_name": "page-history-table",
   "language": "python",
   "name": "python3"
  },
  "language_info": {
   "codemirror_mode": {
    "name": "ipython",
    "version": 3
   },
   "file_extension": ".py",
   "mimetype": "text/x-python",
   "name": "python",
   "nbconvert_exporter": "python",
   "pygments_lexer": "ipython3",
   "version": "3.13.2"
  }
 },
 "nbformat": 4,
 "nbformat_minor": 5
}
